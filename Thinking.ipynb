{
 "cells": [
  {
   "cell_type": "markdown",
   "metadata": {},
   "source": [
    "# Thinking 1"
   ]
  },
  {
   "cell_type": "markdown",
   "metadata": {},
   "source": [
    "## 当我们思考数据源的时候，都有哪些维度，如果你想要使用爬虫抓取数据，都有哪些工具"
   ]
  },
  {
   "cell_type": "markdown",
   "metadata": {},
   "source": [
    "##### 数据源的维度首先是有公开的数据集，也就是开放数据源。这些公开数据可能来自于政府，上市公司或者是一些研究机构比如李飞飞的imageNet。"
   ]
  },
  {
   "cell_type": "markdown",
   "metadata": {},
   "source": [
    "##### 爬虫抓取。可以通过爬虫工具或者代码来抓取特定网站或者App。再一个就是传感器，比如无人驾驶的传感器数据。现在随着物联网的发展，传感器的数据会原来越广泛和丰富。最后就是日志采集，比如在前端进行埋点或者在后端进行脚本收集，统计来分析客户端的使用情况。"
   ]
  },
  {
   "cell_type": "markdown",
   "metadata": {},
   "source": [
    "##### 爬虫抓取工具有一些第三方已经开发好的工具比如八爪鱼。也可以使用代码，现在比较流行的是python的爬虫脚本。"
   ]
  },
  {
   "cell_type": "markdown",
   "metadata": {},
   "source": [
    "# Thinking 2"
   ]
  },
  {
   "cell_type": "markdown",
   "metadata": {},
   "source": [
    "## 企业的数据源来自多个维度，请思考什么是企业的数据中台，你是如何理解一方数据，二方数据，三方数据？"
   ]
  },
  {
   "cell_type": "markdown",
   "metadata": {},
   "source": [
    "##### 数据中台是一个通过技术，能够把获得的大量数据进行采集、计算、存储、加工，同时统一标准和口径，最后转化成服务的一个平台。\n",
    "\n",
    "##### 一方数据可以简单的理解为第一手数据或者自有数据，一般是企业直接从自己的应用程序或者服务当中得到的客户行为数据。这种数据并没有经手于任何第三方，而是直接被企业获得，一般不会公开。\n",
    "\n",
    "##### 二方数据一般是指来自于合作方的数据，是一方数据经过了加工之后的数据。比如电商通过某个平台如淘宝，京东拿到的自己商铺的客户数据，也是不公开的数据，但是有被其他人经手。\n",
    "##### 三方数据来自于第三方的数据供应商，一般是公开数据。这种数据可以理解为二方数据的加工数据。可能是企业在对一方数据和二方数据筛选加工生成的数据"
   ]
  },
  {
   "cell_type": "code",
   "execution_count": null,
   "metadata": {},
   "outputs": [],
   "source": []
  }
 ],
 "metadata": {
  "kernelspec": {
   "display_name": "Python 3",
   "language": "python",
   "name": "python3"
  },
  "language_info": {
   "codemirror_mode": {
    "name": "ipython",
    "version": 3
   },
   "file_extension": ".py",
   "mimetype": "text/x-python",
   "name": "python",
   "nbconvert_exporter": "python",
   "pygments_lexer": "ipython3",
   "version": "3.8.3"
  }
 },
 "nbformat": 4,
 "nbformat_minor": 4
}
